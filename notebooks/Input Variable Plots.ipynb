{
 "cells": [
  {
   "cell_type": "markdown",
   "metadata": {
    "toc-hr-collapsed": false
   },
   "source": [
    "# Plot input variables\n",
    "\n",
    "This script will help us make some nice plots that show the input variables for training\n",
    "\n",
    "## Setup and Config\n",
    "\n",
    "Modify the below things to change what things are plotted"
   ]
  },
  {
   "cell_type": "code",
   "execution_count": 1,
   "metadata": {},
   "outputs": [],
   "source": [
    "# Designed not to be modified\n",
    "import sys\n",
    "sys.path.append(\"../\")\n",
    "from adl_func_client.event_dataset import EventDataset\n",
    "from adl_func_client.use_exe_func_adl_server import use_exe_func_adl_server\n",
    "from calratio_perjet_training.fetch_training_data import fetch_perjet_data\n",
    "import glob\n",
    "import numpy as np\n",
    "import asyncio\n",
    "\n",
    "import matplotlib.pyplot as plt\n",
    "import matplotlib.lines as mlines\n",
    "plt.rc('font', size=14)\n",
    "\n",
    "import pandas as pd\n",
    "\n",
    "df_loc = \"../data/datasets.csv\""
   ]
  },
  {
   "cell_type": "markdown",
   "metadata": {},
   "source": [
    "## Load Datasets"
   ]
  },
  {
   "cell_type": "code",
   "execution_count": 2,
   "metadata": {},
   "outputs": [],
   "source": [
    "datasets = pd.read_csv(df_loc)"
   ]
  },
  {
   "cell_type": "code",
   "execution_count": 3,
   "metadata": {},
   "outputs": [],
   "source": [
    "async def fetch_data_async(info):\n",
    "    return [info, f'{info.mH}_{info.mS}_{info.Lifetime}_{info.MCCampaign}', await fetch_perjet_data(EventDataset(f'localds://{info.RucioDSName}'), f'{info.mH}_{info.mS}_{info.Lifetime}_{info.MCCampaign}')]\n",
    "all_datasets_future = [fetch_data_async(info) for index, info in datasets.iterrows()]\n",
    "r = await asyncio.gather(*all_datasets_future)"
   ]
  },
  {
   "cell_type": "code",
   "execution_count": 4,
   "metadata": {},
   "outputs": [
    {
     "data": {
      "text/plain": [
       "58"
      ]
     },
     "execution_count": 4,
     "metadata": {},
     "output_type": "execute_result"
    }
   ],
   "source": [
    "len(r)"
   ]
  },
  {
   "cell_type": "markdown",
   "metadata": {},
   "source": [
    "## Standard Kinematic Plots\n",
    "\n",
    "Regular plots of jet pt, etc."
   ]
  },
  {
   "cell_type": "code",
   "execution_count": null,
   "metadata": {},
   "outputs": [],
   "source": [
    "plt.hist(m125_m55_ltlow.JetPt, bins=30, range=(0,300))\n",
    "plt.title('m125_m55_ltlow')\n",
    "_ = plt.xlabel('$p_T$ [GeV]')"
   ]
  },
  {
   "cell_type": "code",
   "execution_count": null,
   "metadata": {},
   "outputs": [],
   "source": [
    "plt.hist(m125_m55_ltlow.JetEta, bins=8*5, range=(-4.0,4.0))\n",
    "plt.title('m125_m55_ltlow')\n",
    "_ = plt.xlabel('$\\eta$')"
   ]
  },
  {
   "cell_type": "code",
   "execution_count": null,
   "metadata": {},
   "outputs": [],
   "source": [
    "plt.hist(m125_m55_ltlow.JetPhi, bins=8*5, range=(-4.0,4.0))\n",
    "plt.title('m125_m55_ltlow')\n",
    "_ = plt.xlabel('$\\phi$')"
   ]
  },
  {
   "cell_type": "markdown",
   "metadata": {},
   "source": [
    "## Long Lived Particle Truth\n",
    "\n",
    "Look at the various truth variables that have come out"
   ]
  },
  {
   "cell_type": "code",
   "execution_count": null,
   "metadata": {},
   "outputs": [],
   "source": [
    "plt.hist(m125_m55_ltlow.nLLPs_Near_Jets)\n",
    "plt.title('m125_m55_ltlow')\n",
    "_ = plt.xlabel('Count')"
   ]
  },
  {
   "cell_type": "code",
   "execution_count": null,
   "metadata": {},
   "outputs": [],
   "source": [
    "plt.hist(m125_m55_ltlow.Lx, bins=20)\n",
    "plt.title('m125_m55_ltlow')\n",
    "plt.yscale('log')\n",
    "_ = plt.xlabel('$L_x$ [mm]')"
   ]
  },
  {
   "cell_type": "code",
   "execution_count": null,
   "metadata": {},
   "outputs": [],
   "source": [
    "plt.hist(m125_m55_ltlow.Ly, bins=20)\n",
    "plt.title('m125_m55_ltlow')\n",
    "plt.yscale('log')\n",
    "_ = plt.xlabel('$L_y$ [mm]')"
   ]
  },
  {
   "cell_type": "code",
   "execution_count": null,
   "metadata": {},
   "outputs": [],
   "source": [
    "plt.hist(np.sqrt(m125_m55_ltlow.Lx*m125_m55_ltlow.Lx + m125_m55_ltlow.Ly*m125_m55_ltlow.Ly), bins=20)\n",
    "plt.title('m125_m55_ltlow')\n",
    "plt.yscale('log')\n",
    "_ = plt.xlabel('$L_{xy}$ [mm]')"
   ]
  },
  {
   "cell_type": "code",
   "execution_count": null,
   "metadata": {},
   "outputs": [],
   "source": [
    "plt.hist(m125_m55_ltlow.Lz, bins=20)\n",
    "plt.title('m125_m55_ltlow')\n",
    "plt.yscale('log')\n",
    "_ = plt.xlabel('$L_z$ [mm]')"
   ]
  },
  {
   "cell_type": "markdown",
   "metadata": {},
   "source": [
    "Lets look at how this varies as a function of $\\eta$.\n",
    "\n",
    "When Rachel looked at this, she recommended paying attention to $L_{zy}$ when $|\\eta|<1.5$ and $L_z$ for $|\\eta|>=1.5$. So, given we have the MC results here, lets look at how the distributions look as a function of jet $\\eta$.\n",
    "\n",
    "The funny shapes (or dips or cut-outs, depending on which two plots you are looking at) are explained by the angle w.r.t. the vertical, and how long in $L_z$ that line can be when it intersects with the outter barrel of the calorimeter. Where the behavior fundamentally changes (around $|\\eta|=1.2$), is where the transition between the barrel and endcap or extended barrel occurs."
   ]
  },
  {
   "cell_type": "code",
   "execution_count": null,
   "metadata": {},
   "outputs": [],
   "source": [
    "plt.scatter(m125_m55_ltlow.JetEta, m125_m55_ltlow.Lz)\n",
    "plt.ylabel('$L_z$ [mm]')\n",
    "plt.xlabel('Jet $\\eta$')\n",
    "plt.ylim((0.0, 20000))\n",
    "plt.plot((-1.2, -1.2), (0, 15000), color=\"black\")\n",
    "plt.plot((1.2, 1.2), (0, 15000), color=\"black\")\n",
    "_ = plt.show()"
   ]
  },
  {
   "cell_type": "code",
   "execution_count": null,
   "metadata": {},
   "outputs": [],
   "source": [
    "plt.scatter(m125_m55_ltlow.JetEta, np.sqrt(np.square(m125_m55_ltlow.Lx)+np.square(m125_m55_ltlow.Ly)))\n",
    "plt.ylabel('$L_{xy}$ [mm]')\n",
    "plt.xlabel('Jet $\\eta$')\n",
    "plt.ylim((0.0, 20000))\n",
    "plt.plot((-1.2, -1.2), (0, 15000), color=\"black\")\n",
    "plt.plot((1.2, 1.2), (0, 15000), color=\"black\")\n",
    "_ = plt.show()"
   ]
  },
  {
   "cell_type": "markdown",
   "metadata": {},
   "source": [
    "## What are the large $R$ variables?\n",
    "\n",
    "In the $L_xy$ vs $\\eta$ plots above, there is a significant number of particles that have very large $L_zy$ (and $L_z$). I suspect those are LLP's that are randomly associated with jets. We can probably see this by looking at the $\\Delta R$ between the LLP and the jet."
   ]
  },
  {
   "cell_type": "code",
   "execution_count": null,
   "metadata": {},
   "outputs": [],
   "source": [
    "Lx = m125_m55_ltlow.Lx[m125_m55_ltlow.IsLLP]\n",
    "Ly = m125_m55_ltlow.Ly[m125_m55_ltlow.IsLLP]\n",
    "Lxy = np.sqrt(np.square(Lx)+np.square(Ly))\n",
    "Lz = m125_m55_ltlow.Lz[m125_m55_ltlow.IsLLP]\n",
    "Leta = m125_m55_ltlow.Leta[m125_m55_ltlow.IsLLP]\n",
    "Lphi = m125_m55_ltlow.Lphi[m125_m55_ltlow.IsLLP]\n",
    "\n",
    "plt.hist(Lz, bins=40)\n",
    "plt.title('m125_m55_ltlow')\n",
    "plt.yscale('log')\n",
    "plt.xlabel('$L_z$ [mm]')\n",
    "plt.plot((7500, 7500), (0, 1e5), color=\"black\")\n",
    "plt.show()\n",
    "\n",
    "plt.hist(Lxy, bins=40)\n",
    "plt.title('m125_m55_ltlow')\n",
    "plt.yscale('log')\n",
    "plt.xlabel('$L_{xy}$ [mm]')\n",
    "plt.plot((4400, 4400), (0, 1e5), color=\"black\")\n",
    "plt.show()"
   ]
  },
  {
   "cell_type": "code",
   "execution_count": null,
   "metadata": {},
   "outputs": [],
   "source": [
    "too_far_lz = Lz > 7500\n",
    "too_far_lxy = Lxy > 4400\n",
    "print (f'outliers in Lxy: {sum(too_far_lxy)}, outliers in Lx: {sum(too_far_lz)}')"
   ]
  },
  {
   "cell_type": "code",
   "execution_count": null,
   "metadata": {},
   "outputs": [],
   "source": [
    "plt.hist(Lz[too_far_lz], bins=40)\n",
    "plt.title('m125_m55_ltlow - $L_z$ outliers')\n",
    "plt.xlabel('$L_z$ [mm]')\n",
    "plt.show()\n",
    "\n",
    "plt.hist(Lxy[too_far_lz], bins=40)\n",
    "plt.title('m125_m55_ltlow - $L_{xy}$ outliers')\n",
    "plt.xlabel('$L_{xy}$ [mm]')\n",
    "plt.show()"
   ]
  },
  {
   "cell_type": "markdown",
   "metadata": {},
   "source": [
    "It took a few iterations to get $\\Delta R$ calculated properly. There were bugs: ironically, not in the back-end, but in how I was coding up the request!\n",
    "\n",
    "Here is proof that $\\Delta R$ is getting correctly calculated"
   ]
  },
  {
   "cell_type": "code",
   "execution_count": null,
   "metadata": {},
   "outputs": [],
   "source": [
    "JL_D_eta = m125_m55_ltlow.JetEta[m125_m55_ltlow.IsLLP] - Leta\n",
    "JL_D_phi = m125_m55_ltlow.JetPhi[m125_m55_ltlow.IsLLP] - Lphi\n",
    "while sum(JL_D_phi>=np.pi) > 0:\n",
    "    JL_D_phi = JL_D_phi - (JL_D_phi>=np.pi)*2*np.pi\n",
    "while sum(JL_D_phi<-np.pi) > 0:\n",
    "    JL_D_phi = JL_D_phi + (JL_D_phi<-np.pi)*2*np.pi\n",
    "JL_DeltaR = np.sqrt(np.square(JL_D_eta) + np.square(JL_D_phi))\n",
    "plt.hist(JL_DeltaR, bins=40)\n",
    "plt.show()"
   ]
  },
  {
   "cell_type": "code",
   "execution_count": null,
   "metadata": {},
   "outputs": [],
   "source": [
    "bins = np.linspace(0.0, 0.4, 40)\n",
    "\n",
    "plt.hist(JL_DeltaR, bins, label='all')\n",
    "plt.hist(JL_DeltaR[too_far_lz], bins, label='outlier')\n",
    "plt.yscale('log')\n",
    "plt.xlabel('$\\Delta R$')\n",
    "plt.title('Outliers in $L_z$ ($L_z>7500$ mm)')\n",
    "plt.legend()\n",
    "plt.show()\n",
    "\n",
    "plt.hist(JL_DeltaR, bins, label='all')\n",
    "plt.hist(JL_DeltaR[too_far_lxy], bins, label='outlier')\n",
    "plt.yscale('log')\n",
    "plt.xlabel('$\\Delta R$')\n",
    "plt.title('Outliers in $L_{xy}$ ($L_{xy}>4400$ mm)')\n",
    "plt.legend()\n",
    "plt.show()"
   ]
  },
  {
   "cell_type": "markdown",
   "metadata": {
    "toc-hr-collapsed": false
   },
   "source": [
    "## MLP Input Variables\n",
    "\n",
    "Look at the input variables for Lxy predictor"
   ]
  },
  {
   "cell_type": "code",
   "execution_count": null,
   "metadata": {},
   "outputs": [],
   "source": [
    "plt.hist(m125_m55_ltlow.EMM_BL0, range=(0.0,1.0), bins=20)\n",
    "plt.title('m125_m55_ltlow')\n",
    "plt.yscale('log')\n",
    "_ = plt.xlabel('EMM BL0 [Fraction]')"
   ]
  },
  {
   "cell_type": "code",
   "execution_count": null,
   "metadata": {},
   "outputs": [],
   "source": []
  },
  {
   "cell_type": "code",
   "execution_count": null,
   "metadata": {},
   "outputs": [],
   "source": []
  }
 ],
 "metadata": {
  "kernelspec": {
   "display_name": "Python 3",
   "language": "python",
   "name": "python3"
  },
  "language_info": {
   "codemirror_mode": {
    "name": "ipython",
    "version": 3
   },
   "file_extension": ".py",
   "mimetype": "text/x-python",
   "name": "python",
   "nbconvert_exporter": "python",
   "pygments_lexer": "ipython3",
   "version": "3.7.3"
  }
 },
 "nbformat": 4,
 "nbformat_minor": 2
}
