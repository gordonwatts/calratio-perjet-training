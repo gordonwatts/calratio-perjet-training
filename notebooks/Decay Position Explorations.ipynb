{
 "cells": [
  {
   "cell_type": "markdown",
   "metadata": {},
   "source": [
    "# Exploring the Decay Position Network\n",
    "\n",
    "This is repeating a little bit of the work that Rachel did - but going straight to a training. This notebook will use karas.\n",
    "\n",
    "## Config"
   ]
  },
  {
   "cell_type": "code",
   "execution_count": 49,
   "metadata": {},
   "outputs": [],
   "source": [
    "func_adl_endpoint = 'http://localhost:8000'\n",
    "datasets_for_training_datafile = \"../data/datasets.csv\"\n",
    "\n",
    "# Constants derived in previous notebook. Need to be added to a python file of config constants.\n",
    "lxyz_eta_division = 1.3\n",
    "too_far_dist_lz = 7500\n",
    "too_far_dist_lxy = 4400\n",
    "too_short_dist_lxy=1300\n",
    "too_short_dist_lz=3500\n",
    "\n",
    "# Columns to train on. This is partly gotten by looking at the `Input Variables` worksheet to remove blanks.\n",
    "what_to_train_on = ['EMM_BL0', 'EMM_BL1', 'EMM_BL2',\n",
    "       'EMM_BL3', 'EMM_EL0', 'EMM_EL1', 'EMM_EL2', 'EMM_EL3', 'EH_EL0',\n",
    "       'EH_EL1', 'EH_EL2', 'EH_EL3', 'EH_CBL0', 'EH_CBL1', 'EH_CVL2',\n",
    "       'EH_TGL0', 'EH_TGL1', 'EH_TGL2', 'EH_EBL0', 'EH_EBL1', 'EH_EBL2']\n",
    "#  'FC_L0', 'FC_L1', 'FC_L2' - these seem to be all zeros as seen before."
   ]
  },
  {
   "cell_type": "markdown",
   "metadata": {},
   "source": [
    "## Python setup"
   ]
  },
  {
   "cell_type": "code",
   "execution_count": 11,
   "metadata": {},
   "outputs": [
    {
     "name": "stderr",
     "output_type": "stream",
     "text": [
      "Using TensorFlow backend.\n"
     ]
    }
   ],
   "source": [
    "# Designed not to be modified\n",
    "import sys\n",
    "sys.path.append(\"../\")\n",
    "from adl_func_client.event_dataset import EventDataset\n",
    "from adl_func_client.use_exe_func_adl_server import use_exe_func_adl_server\n",
    "from calratio_perjet_training.fetch_training_data import fetch_perjet_data\n",
    "import glob\n",
    "import numpy as np\n",
    "import asyncio\n",
    "\n",
    "import matplotlib.pyplot as plt\n",
    "import matplotlib.lines as mlines\n",
    "from matplotlib import rcParams\n",
    "plt.rc('font', size=14)\n",
    "\n",
    "import pandas as pd\n",
    "\n",
    "from keras.models import Sequential\n",
    "from keras.layers import Dense, Dropout\n",
    "import sklearn.metrics"
   ]
  },
  {
   "cell_type": "markdown",
   "metadata": {},
   "source": [
    "## Load datasets"
   ]
  },
  {
   "cell_type": "code",
   "execution_count": 3,
   "metadata": {},
   "outputs": [],
   "source": [
    "datasets = pd.read_csv(datasets_for_training_datafile)"
   ]
  },
  {
   "cell_type": "code",
   "execution_count": 4,
   "metadata": {},
   "outputs": [],
   "source": [
    "async def fetch_data_async(info):\n",
    "    return [info, f'{info.mH}_{info.mS}_{info.Lifetime}_{info.MCCampaign}', await fetch_perjet_data(EventDataset(f'localds://{info.RucioDSName}'), f'{info.mH}_{info.mS}_{info.Lifetime}_{info.MCCampaign}')]\n",
    "all_datasets_future = [fetch_data_async(info) for index, info in datasets.iterrows()]\n",
    "datasets_for_training = await asyncio.gather(*all_datasets_future)"
   ]
  },
  {
   "cell_type": "code",
   "execution_count": 8,
   "metadata": {},
   "outputs": [],
   "source": [
    "what_to_combine = datasets_for_training[20:35]\n",
    "all_jets = pd.DataFrame(pd.concat([d[2] for d in what_to_combine], keys=[(d[0].mH, d[0].mS, d[0].Lifetime, f'{d[0].mH}/{d[0].mS}', d[0].MCCampaign) for d in what_to_combine], names=['mH', 'mS', 'Lifetime', 'mH_mS', 'MC']).to_records())\n"
   ]
  },
  {
   "cell_type": "markdown",
   "metadata": {},
   "source": [
    "Nextw we need to add a bunch of columns to the data to make it easy to use below. Eventually this code should be in a python file (along with the above code, I suppose)."
   ]
  },
  {
   "cell_type": "code",
   "execution_count": 20,
   "metadata": {},
   "outputs": [],
   "source": [
    "all_jets['Lxy'] = np.sqrt(all_jets.Lx*all_jets.Lx + all_jets.Ly*all_jets.Ly)\n",
    "\n",
    "all_jets['IsOutlier'] = False\n",
    "all_jets['IsOutlier'] |= all_jets.Lxy[all_jets.IsLLP & (np.abs(all_jets.JetEta) < lxyz_eta_division)] > too_far_dist_lxy\n",
    "all_jets['IsOutlier'] |= all_jets.Lz[all_jets.IsLLP & (np.abs(all_jets.JetEta) >= lxyz_eta_division)] > too_far_dist_lz\n",
    "\n",
    "all_jets['IsInlier'] = False\n",
    "all_jets['IsInlier'] |= all_jets.Lxy[all_jets.IsLLP & (np.abs(all_jets.JetEta) < lxyz_eta_division)] < too_short_dist_lxy\n",
    "all_jets['IsInlier'] |= all_jets.Lz[all_jets.IsLLP & (np.abs(all_jets.JetEta) >= lxyz_eta_division)] < too_short_dist_lz\n",
    "\n",
    "all_jets['JetIsCentral'] = np.abs(all_jets.JetEta) < lxyz_eta_division\n",
    "\n",
    "all_jets[\"Signal\"] = all_jets.IsLLP & (all_jets.JetPt > 40) & (np.abs(all_jets.JetEta) < 2.4) & (all_jets.IsOutlier == False) & (all_jets.IsInlier == False)"
   ]
  },
  {
   "cell_type": "code",
   "execution_count": 21,
   "metadata": {},
   "outputs": [
    {
     "data": {
      "text/plain": [
       "Index(['mH', 'mS', 'Lifetime', 'mH_mS', 'MC', 'entry', 'RunNumber',\n",
       "       'EventNumber', 'JetPt', 'JetEta', 'JetPhi', 'IsLLP', 'nLLPs_Near_Jets',\n",
       "       'Lx', 'Ly', 'Lz', 'Leta', 'Lphi', 'EMM_BL0', 'EMM_BL1', 'EMM_BL2',\n",
       "       'EMM_BL3', 'EMM_EL0', 'EMM_EL1', 'EMM_EL2', 'EMM_EL3', 'EH_EL0',\n",
       "       'EH_EL1', 'EH_EL2', 'EH_EL3', 'EH_CBL0', 'EH_CBL1', 'EH_CVL2',\n",
       "       'EH_TGL0', 'EH_TGL1', 'EH_TGL2', 'EH_EBL0', 'EH_EBL1', 'EH_EBL2',\n",
       "       'FC_L0', 'FC_L1', 'FC_L2', 'Lxy', 'IsOutlier', 'IsInlier',\n",
       "       'JetIsCentral', 'Signal'],\n",
       "      dtype='object')"
      ]
     },
     "execution_count": 21,
     "metadata": {},
     "output_type": "execute_result"
    }
   ],
   "source": [
    "all_jets.columns"
   ]
  },
  {
   "cell_type": "markdown",
   "metadata": {},
   "source": [
    "## Training and testing samples\n",
    "\n",
    "We can't use `IsLLP` as the direct truth - some jets decay at the IP and are due to an LLP. We did a bunch of work in the notebook `Input Variable Plots` looking at how the inputs behaved and where to place cuts. We've put that in the `Signal` column."
   ]
  },
  {
   "cell_type": "code",
   "execution_count": 25,
   "metadata": {},
   "outputs": [],
   "source": [
    "train_signal = all_jets[all_jets.Signal == True]\n",
    "train_back = all_jets[all_jets.Signal == False]"
   ]
  },
  {
   "cell_type": "code",
   "execution_count": 30,
   "metadata": {},
   "outputs": [],
   "source": [
    "training_events = 20000\n",
    "train_signal_c = (train_signal[:training_events], train_signal[training_events:2*training_events])"
   ]
  },
  {
   "cell_type": "code",
   "execution_count": 31,
   "metadata": {},
   "outputs": [
    {
     "name": "stdout",
     "output_type": "stream",
     "text": [
      "Signal (training: 20000, test:20000)\n"
     ]
    }
   ],
   "source": [
    "print (f'Signal (training: {len(train_signal_c[0])}, test:{len(train_signal_c[1])})')"
   ]
  },
  {
   "cell_type": "markdown",
   "metadata": {},
   "source": [
    "And put them into the traditional x and y train and test things."
   ]
  },
  {
   "cell_type": "code",
   "execution_count": 52,
   "metadata": {},
   "outputs": [],
   "source": [
    "def norm_inputs(p):\n",
    "    'Noramilze between 0 and 1 inputs'\n",
    "    mean = p.mean()\n",
    "    std = p.std()\n",
    "    return (p - mean) / std\n",
    "\n",
    "y_train = norm_inputs(train_signal_c[0].Lxy)\n",
    "y_test = norm_inputs(train_signal_c[1].Lxy)\n",
    "\n",
    "x_train = norm_inputs(train_signal_c[0].filter(items=what_to_train_on))\n",
    "x_test = norm_inputs(train_signal_c[1].filter(items=what_to_train_on))"
   ]
  },
  {
   "cell_type": "markdown",
   "metadata": {},
   "source": [
    "## Build the Model"
   ]
  },
  {
   "cell_type": "code",
   "execution_count": 59,
   "metadata": {},
   "outputs": [
    {
     "name": "stdout",
     "output_type": "stream",
     "text": [
      "Train on 15000 samples, validate on 5000 samples\n",
      "Epoch 1/100\n",
      "15000/15000 [==============================] - 2s 141us/step - loss: 0.1145 - val_loss: 0.0692\n",
      "Epoch 2/100\n",
      "15000/15000 [==============================] - 1s 68us/step - loss: 0.0654 - val_loss: 0.0649\n",
      "Epoch 3/100\n",
      "15000/15000 [==============================] - 1s 82us/step - loss: 0.0613 - val_loss: 0.0585\n",
      "Epoch 4/100\n",
      "15000/15000 [==============================] - 2s 114us/step - loss: 0.0586 - val_loss: 0.0545\n",
      "Epoch 5/100\n",
      "15000/15000 [==============================] - 2s 111us/step - loss: 0.0559 - val_loss: 0.0549\n",
      "Epoch 6/100\n",
      "15000/15000 [==============================] - 1s 93us/step - loss: 0.0553 - val_loss: 0.0511\n",
      "Epoch 7/100\n",
      "15000/15000 [==============================] - 2s 102us/step - loss: 0.0540 - val_loss: 0.0544\n",
      "Epoch 8/100\n",
      "15000/15000 [==============================] - 1s 88us/step - loss: 0.0522 - val_loss: 0.0561\n",
      "Epoch 9/100\n",
      "15000/15000 [==============================] - 1s 71us/step - loss: 0.0516 - val_loss: 0.0468\n",
      "Epoch 10/100\n",
      "15000/15000 [==============================] - 1s 79us/step - loss: 0.0505 - val_loss: 0.0478\n",
      "Epoch 11/100\n",
      "15000/15000 [==============================] - 1s 81us/step - loss: 0.0499 - val_loss: 0.0500\n",
      "Epoch 12/100\n",
      "15000/15000 [==============================] - 1s 75us/step - loss: 0.0489 - val_loss: 0.0472\n",
      "Epoch 13/100\n",
      "15000/15000 [==============================] - 1s 60us/step - loss: 0.0483 - val_loss: 0.0439\n",
      "Epoch 14/100\n",
      "15000/15000 [==============================] - 1s 60us/step - loss: 0.0482 - val_loss: 0.0460\n",
      "Epoch 15/100\n",
      "15000/15000 [==============================] - 1s 66us/step - loss: 0.0469 - val_loss: 0.0451\n",
      "Epoch 16/100\n",
      "15000/15000 [==============================] - 1s 66us/step - loss: 0.0459 - val_loss: 0.0444\n",
      "Epoch 17/100\n",
      "15000/15000 [==============================] - 1s 68us/step - loss: 0.0456 - val_loss: 0.0470\n",
      "Epoch 18/100\n",
      "15000/15000 [==============================] - 1s 62us/step - loss: 0.0454 - val_loss: 0.0434\n",
      "Epoch 19/100\n",
      "15000/15000 [==============================] - 1s 70us/step - loss: 0.0447 - val_loss: 0.0435\n",
      "Epoch 20/100\n",
      "15000/15000 [==============================] - 1s 65us/step - loss: 0.0452 - val_loss: 0.0423\n",
      "Epoch 21/100\n",
      "15000/15000 [==============================] - 1s 71us/step - loss: 0.0445 - val_loss: 0.0428\n",
      "Epoch 22/100\n",
      "15000/15000 [==============================] - 1s 65us/step - loss: 0.0436 - val_loss: 0.0406\n",
      "Epoch 23/100\n",
      "15000/15000 [==============================] - 1s 71us/step - loss: 0.0437 - val_loss: 0.0427\n",
      "Epoch 24/100\n",
      "15000/15000 [==============================] - 1s 67us/step - loss: 0.0432 - val_loss: 0.0410\n",
      "Epoch 25/100\n",
      "15000/15000 [==============================] - 1s 64us/step - loss: 0.0433 - val_loss: 0.0418\n",
      "Epoch 26/100\n",
      "15000/15000 [==============================] - 1s 69us/step - loss: 0.0425 - val_loss: 0.0412\n",
      "Epoch 27/100\n",
      "15000/15000 [==============================] - 1s 71us/step - loss: 0.0418 - val_loss: 0.0410\n",
      "Epoch 28/100\n",
      "15000/15000 [==============================] - 1s 70us/step - loss: 0.0418 - val_loss: 0.0407\n",
      "Epoch 29/100\n",
      "15000/15000 [==============================] - 1s 69us/step - loss: 0.0413 - val_loss: 0.0402\n",
      "Epoch 30/100\n",
      "15000/15000 [==============================] - 1s 68us/step - loss: 0.0410 - val_loss: 0.0397\n",
      "Epoch 31/100\n",
      "15000/15000 [==============================] - 1s 73us/step - loss: 0.0403 - val_loss: 0.0407\n",
      "Epoch 32/100\n",
      "15000/15000 [==============================] - 1s 75us/step - loss: 0.0416 - val_loss: 0.0392\n",
      "Epoch 33/100\n",
      "15000/15000 [==============================] - 1s 62us/step - loss: 0.0402 - val_loss: 0.0401\n",
      "Epoch 34/100\n",
      "15000/15000 [==============================] - 1s 63us/step - loss: 0.0401 - val_loss: 0.0375\n",
      "Epoch 35/100\n",
      "15000/15000 [==============================] - 1s 63us/step - loss: 0.0396 - val_loss: 0.0392\n",
      "Epoch 36/100\n",
      "15000/15000 [==============================] - 1s 64us/step - loss: 0.0400 - val_loss: 0.0416\n",
      "Epoch 37/100\n",
      "15000/15000 [==============================] - 1s 64us/step - loss: 0.0394 - val_loss: 0.0368\n",
      "Epoch 38/100\n",
      "15000/15000 [==============================] - 1s 69us/step - loss: 0.0393 - val_loss: 0.0389\n",
      "Epoch 39/100\n",
      "15000/15000 [==============================] - 1s 66us/step - loss: 0.0385 - val_loss: 0.0391\n",
      "Epoch 40/100\n",
      "15000/15000 [==============================] - 1s 68us/step - loss: 0.0383 - val_loss: 0.0358\n",
      "Epoch 41/100\n",
      "15000/15000 [==============================] - 1s 61us/step - loss: 0.0380 - val_loss: 0.0355\n",
      "Epoch 42/100\n",
      "15000/15000 [==============================] - 1s 61us/step - loss: 0.0376 - val_loss: 0.0373\n",
      "Epoch 43/100\n",
      "15000/15000 [==============================] - 1s 69us/step - loss: 0.0376 - val_loss: 0.0388\n",
      "Epoch 44/100\n",
      "15000/15000 [==============================] - 1s 71us/step - loss: 0.0380 - val_loss: 0.0363\n",
      "Epoch 45/100\n",
      "15000/15000 [==============================] - 1s 63us/step - loss: 0.0371 - val_loss: 0.0411\n",
      "Epoch 46/100\n",
      "15000/15000 [==============================] - 1s 62us/step - loss: 0.0370 - val_loss: 0.0357\n",
      "Epoch 47/100\n",
      "15000/15000 [==============================] - 1s 65us/step - loss: 0.0366 - val_loss: 0.0365\n",
      "Epoch 48/100\n",
      "15000/15000 [==============================] - 1s 66us/step - loss: 0.0365 - val_loss: 0.0365\n",
      "Epoch 49/100\n",
      "15000/15000 [==============================] - 1s 68us/step - loss: 0.0361 - val_loss: 0.0372\n",
      "Epoch 50/100\n",
      "15000/15000 [==============================] - 1s 63us/step - loss: 0.0357 - val_loss: 0.0344\n",
      "Epoch 51/100\n",
      "15000/15000 [==============================] - 1s 64us/step - loss: 0.0359 - val_loss: 0.0352\n",
      "Epoch 52/100\n",
      "15000/15000 [==============================] - 1s 63us/step - loss: 0.0362 - val_loss: 0.0362\n",
      "Epoch 53/100\n",
      "15000/15000 [==============================] - 1s 63us/step - loss: 0.0360 - val_loss: 0.0347\n",
      "Epoch 54/100\n",
      "15000/15000 [==============================] - 1s 64us/step - loss: 0.0349 - val_loss: 0.0332\n",
      "Epoch 55/100\n",
      "15000/15000 [==============================] - 1s 65us/step - loss: 0.0353 - val_loss: 0.0383\n",
      "Epoch 56/100\n",
      "15000/15000 [==============================] - 1s 62us/step - loss: 0.0350 - val_loss: 0.0330\n",
      "Epoch 57/100\n",
      "15000/15000 [==============================] - 1s 71us/step - loss: 0.0344 - val_loss: 0.0336\n",
      "Epoch 58/100\n",
      "15000/15000 [==============================] - 1s 75us/step - loss: 0.0345 - val_loss: 0.0335\n",
      "Epoch 59/100\n",
      "15000/15000 [==============================] - 1s 66us/step - loss: 0.0343 - val_loss: 0.0343\n",
      "Epoch 60/100\n",
      "15000/15000 [==============================] - 1s 63us/step - loss: 0.0344 - val_loss: 0.0337\n",
      "Epoch 61/100\n",
      "15000/15000 [==============================] - 1s 64us/step - loss: 0.0335 - val_loss: 0.0353\n",
      "Epoch 62/100\n",
      "15000/15000 [==============================] - 1s 72us/step - loss: 0.0339 - val_loss: 0.0343\n",
      "Epoch 63/100\n",
      "15000/15000 [==============================] - 1s 72us/step - loss: 0.0338 - val_loss: 0.0305\n",
      "Epoch 64/100\n",
      "15000/15000 [==============================] - 1s 78us/step - loss: 0.0335 - val_loss: 0.0336\n",
      "Epoch 65/100\n",
      "15000/15000 [==============================] - 1s 65us/step - loss: 0.0335 - val_loss: 0.0322\n",
      "Epoch 66/100\n",
      "15000/15000 [==============================] - 1s 64us/step - loss: 0.0338 - val_loss: 0.0319\n",
      "Epoch 67/100\n",
      "15000/15000 [==============================] - 1s 66us/step - loss: 0.0335 - val_loss: 0.0331\n",
      "Epoch 68/100\n",
      "15000/15000 [==============================] - 1s 72us/step - loss: 0.0333 - val_loss: 0.0311\n",
      "Epoch 69/100\n",
      "15000/15000 [==============================] - 1s 74us/step - loss: 0.0331 - val_loss: 0.0324\n",
      "Epoch 70/100\n",
      "15000/15000 [==============================] - 1s 63us/step - loss: 0.0331 - val_loss: 0.0328\n",
      "Epoch 71/100\n",
      "15000/15000 [==============================] - 1s 57us/step - loss: 0.0327 - val_loss: 0.0320\n",
      "Epoch 72/100\n",
      "15000/15000 [==============================] - 1s 62us/step - loss: 0.0329 - val_loss: 0.0306\n",
      "Epoch 73/100\n",
      "15000/15000 [==============================] - 1s 58us/step - loss: 0.0324 - val_loss: 0.0307\n",
      "Epoch 74/100\n",
      "15000/15000 [==============================] - 1s 63us/step - loss: 0.0323 - val_loss: 0.0313\n",
      "Epoch 75/100\n",
      "15000/15000 [==============================] - 1s 68us/step - loss: 0.0326 - val_loss: 0.0295\n",
      "Epoch 76/100\n",
      "15000/15000 [==============================] - 1s 70us/step - loss: 0.0320 - val_loss: 0.0323\n",
      "Epoch 77/100\n",
      "15000/15000 [==============================] - 1s 73us/step - loss: 0.0320 - val_loss: 0.0328\n",
      "Epoch 78/100\n",
      "15000/15000 [==============================] - 1s 62us/step - loss: 0.0317 - val_loss: 0.0316\n",
      "Epoch 79/100\n",
      "15000/15000 [==============================] - 1s 70us/step - loss: 0.0323 - val_loss: 0.0302\n",
      "Epoch 80/100\n",
      "15000/15000 [==============================] - 1s 71us/step - loss: 0.0319 - val_loss: 0.0304\n",
      "Epoch 81/100\n",
      "15000/15000 [==============================] - 1s 67us/step - loss: 0.0318 - val_loss: 0.0331\n",
      "Epoch 82/100\n",
      "15000/15000 [==============================] - 1s 74us/step - loss: 0.0318 - val_loss: 0.0295\n",
      "Epoch 83/100\n",
      "15000/15000 [==============================] - 1s 68us/step - loss: 0.0310 - val_loss: 0.0298\n",
      "Epoch 84/100\n",
      "15000/15000 [==============================] - 1s 62us/step - loss: 0.0315 - val_loss: 0.0296\n",
      "Epoch 85/100\n",
      "15000/15000 [==============================] - 1s 66us/step - loss: 0.0309 - val_loss: 0.0307\n",
      "Epoch 86/100\n",
      "15000/15000 [==============================] - 1s 64us/step - loss: 0.0313 - val_loss: 0.0324\n",
      "Epoch 87/100\n",
      "15000/15000 [==============================] - 1s 69us/step - loss: 0.0314 - val_loss: 0.0309\n",
      "Epoch 88/100\n",
      "15000/15000 [==============================] - 1s 64us/step - loss: 0.0313 - val_loss: 0.0302\n",
      "Epoch 89/100\n",
      "15000/15000 [==============================] - 1s 64us/step - loss: 0.0305 - val_loss: 0.0302\n",
      "Epoch 90/100\n",
      "15000/15000 [==============================] - 1s 63us/step - loss: 0.0301 - val_loss: 0.0328\n",
      "Epoch 91/100\n",
      "15000/15000 [==============================] - 1s 69us/step - loss: 0.0306 - val_loss: 0.0289\n",
      "Epoch 92/100\n",
      "15000/15000 [==============================] - 1s 61us/step - loss: 0.0302 - val_loss: 0.0303\n",
      "Epoch 93/100\n",
      "15000/15000 [==============================] - 1s 61us/step - loss: 0.0302 - val_loss: 0.0350\n",
      "Epoch 94/100\n",
      "15000/15000 [==============================] - 1s 66us/step - loss: 0.0311 - val_loss: 0.0284\n",
      "Epoch 95/100\n",
      "15000/15000 [==============================] - 1s 59us/step - loss: 0.0301 - val_loss: 0.0282\n",
      "Epoch 96/100\n",
      "15000/15000 [==============================] - 1s 61us/step - loss: 0.0300 - val_loss: 0.0302\n",
      "Epoch 97/100\n",
      "15000/15000 [==============================] - 1s 62us/step - loss: 0.0301 - val_loss: 0.0327\n",
      "Epoch 98/100\n",
      "15000/15000 [==============================] - 1s 62us/step - loss: 0.0301 - val_loss: 0.0291\n",
      "Epoch 99/100\n",
      "15000/15000 [==============================] - 1s 64us/step - loss: 0.0305 - val_loss: 0.0277\n",
      "Epoch 100/100\n",
      "15000/15000 [==============================] - 1s 74us/step - loss: 0.0298 - val_loss: 0.0275\n"
     ]
    }
   ],
   "source": [
    "#%%capture --no-stdout --no-display\n",
    "\n",
    "model = Sequential()\n",
    "model.add(Dense(64, activation='relu', input_dim=len(x_train.columns)))\n",
    "#model.add(Dropout(0.5))\n",
    "model.add(Dense(64, activation='relu'))\n",
    "#model.add(Dropout(0.5))\n",
    "# THis is the number of outputs - so could be 2 if we wanted to train both lxy and lz\n",
    "# Activation might be softmax if we had more than one thing as we would would want it to some to some number.\n",
    "# But since this is regression, we do not.\n",
    "model.add(Dense(1))\n",
    "\n",
    "#categorical_crossentropy\n",
    "model.compile(optimizer='adam', loss='mean_squared_error')\n",
    "\n",
    "model.fit(x_train, y_train, batch_size=32, epochs=100, validation_split=0.25, shuffle=True);"
   ]
  },
  {
   "cell_type": "code",
   "execution_count": null,
   "metadata": {},
   "outputs": [],
   "source": []
  }
 ],
 "metadata": {
  "kernelspec": {
   "display_name": "Python 3",
   "language": "python",
   "name": "python3"
  },
  "language_info": {
   "codemirror_mode": {
    "name": "ipython",
    "version": 3
   },
   "file_extension": ".py",
   "mimetype": "text/x-python",
   "name": "python",
   "nbconvert_exporter": "python",
   "pygments_lexer": "ipython3",
   "version": "3.7.1"
  }
 },
 "nbformat": 4,
 "nbformat_minor": 2
}
